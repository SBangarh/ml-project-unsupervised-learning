{
 "cells": [
  {
   "cell_type": "markdown",
   "id": "9f566e09",
   "metadata": {},
   "source": [
    "# Supervised Learning - Project"
   ]
  },
  {
   "cell_type": "markdown",
   "id": "dad75ccd",
   "metadata": {},
   "source": [
    "In this Project, we are going to perform a full unsupervised learning machine learning project on a \"Wholesale Data\" dataset. The dataset refers to clients of a wholesale distributor. It includes the annual spending in monetary units (m.u.) on diverse product categories\n",
    "\n",
    "[Kaggle Link](https://www.kaggle.com/datasets/binovi/wholesale-customers-data-set)"
   ]
  },
  {
   "cell_type": "markdown",
   "id": "8f66bb29",
   "metadata": {},
   "source": [
    "# Library Imports and Functions"
   ]
  },
  {
   "cell_type": "code",
   "execution_count": 1,
   "id": "2aef900e",
   "metadata": {},
   "outputs": [],
   "source": [
    "import pandas as pd # data analysis and manipulation\n",
    "import numpy as np # back up to pandas, I like to import it\n",
    "import matplotlib.pyplot as plt # data visuals\n",
    "import seaborn as sns # data visuals"
   ]
  },
  {
   "cell_type": "code",
   "execution_count": null,
   "id": "54b89bae",
   "metadata": {},
   "outputs": [],
   "source": [
    "# EDA functions\n",
    "\n",
    "def df_shape(dataframe):\n",
    "    shape = dataframe.shape\n",
    "    if shape != (0, 0):\n",
    "        return dataframe.shape\n",
    "    else:\n",
    "        return \"Your dataframe does not exist. Check your dataframe variable.\"\n",
    "    \n",
    "def df_info(dataframe):\n",
    "    info = dataframe.info()\n",
    "    if not dataframe.empty:\n",
    "        return info\n",
    "    else:\n",
    "        return \"Your dataframe does not exist. Check your dataframe variable.\"\n",
    "    \n",
    "def df_head(dataframe):\n",
    "    if not dataframe.empty:\n",
    "        return dataframe.head()\n",
    "    else:\n",
    "        return \"Your dataframe does not exist. Check your dataframe variable.\"\n",
    "\n",
    "\n",
    "def df_nulls(dataframe):\n",
    "    null_count = dataframe.isnull().sum()\n",
    "    null_percent = (null_count * 100) / len(dataframe)\n",
    "    if not dataframe.empty:\n",
    "        return f\"Here are the number and percent of nulls per column, respectively \\n{null_count} \\n{null_percent}\"\n",
    "    else:\n",
    "        return \"Your dataframe does not exist. Check your dataframe variable.\"\n",
    "\n",
    "def df_dups(dataframe):\n",
    "    dup_count = dataframe.duplicated().sum()\n",
    "    if not dataframe.empty:\n",
    "        return f\"There are {dup_count} duplicates in your dataframe.\"\n",
    "    else:\n",
    "        return \"Your dataframe does not exist. Check your dataframe variable.\"\n",
    "    \n",
    "def drop_dups(dataframe):\n",
    "    if not dataframe.empty:\n",
    "        return dataframe.drop_duplicates()\n",
    "    else:\n",
    "        return \"Your dataframe does not exist. Check your dataframe variable.\"\n",
    "\n",
    "def df_num_describe(dataframe):\n",
    "    if not dataframe.empty:\n",
    "        return dataframe.describe()\n",
    "    else:\n",
    "        return \"Your dataframe does not exist. Check your dataframe variable.\"\n",
    "\n",
    "def df_cat_describe(dataframe):\n",
    "    if not dataframe.empty():\n",
    "        return dataframe.describe(include='O')\n",
    "    else:\n",
    "        return \"Your dataframe does not exist. Check your dataframe variable.\"\n"
   ]
  },
  {
   "cell_type": "markdown",
   "id": "c5e57f31",
   "metadata": {},
   "source": [
    "# Part I : EDA - Exploratory Data Analysis & Pre-processing"
   ]
  },
  {
   "cell_type": "markdown",
   "id": "53c827a5",
   "metadata": {},
   "source": [
    "The given dataset seems to be a grocery sales dataset containing information about various products sold by a grocery store. To perform an exploratory data analysis (EDA) on this dataset, we can perform the following tasks:\n",
    "\n",
    "- Data Import: Import the dataset into a statistical software tool such as Python or R.\n",
    "- Data Cleaning: Check the dataset for any missing or incorrect data and clean the dataset accordingly. This may involve removing or imputing missing data or correcting any obvious errors.\n",
    "Data Description: Generate summary statistics such as mean, median, and standard deviation for each column of the dataset. This will help in understanding the distribution of data in each column.\n",
    "- Data Visualization: Create various visualizations such as histograms, box plots, scatter plots, and heatmaps to understand the relationships and trends between the different variables in the dataset. For example, we can create a scatter plot between the \"Fresh\" and \"Milk\" variables to see if there is any correlation between them.\n",
    "- Outlier Detection: Check for any outliers in the dataset and determine whether they are valid or erroneous data points.\n",
    "- Correlation Analysis: Calculate the correlation between different variables in the dataset to determine which variables are highly correlated and which ones are not. For example, we can calculate the correlation between \"Grocery\" and \"Detergents_Paper\" to see if there is any relationship between these two variables.\n",
    "- Data Transformation: If necessary, transform the data by standardizing or normalizing the variables to make them comparable across different scales.\n",
    "- Feature Selection: Identify the most important features or variables that contribute the most to the overall variance in the dataset. This can be done using various feature selection techniques such as principal component analysis (PCA) or random forest regression."
   ]
  },
  {
   "cell_type": "code",
   "execution_count": null,
   "id": "5bfb7c9a",
   "metadata": {},
   "outputs": [],
   "source": [
    "#load data\n",
    "\n",
    "raw_data = "
   ]
  },
  {
   "cell_type": "markdown",
   "id": "fd472b2a",
   "metadata": {},
   "source": [
    "# Part II - KMeans Clustering"
   ]
  },
  {
   "cell_type": "markdown",
   "id": "54982ce3",
   "metadata": {},
   "source": [
    "The objective of the analysis is to group similar products together into clusters based on their attributes such as fresh, milk, grocery, frozen, detergents_paper, and delicatessen. To perform the k-means clustering analysis, you will need to pre-process the dataset, determine the optimal number of clusters, initialize the centroids, assign data points to clusters, update the centroids, and repeat until convergence."
   ]
  },
  {
   "cell_type": "code",
   "execution_count": null,
   "id": "4fe55289",
   "metadata": {},
   "outputs": [],
   "source": []
  },
  {
   "cell_type": "markdown",
   "id": "44f48cda",
   "metadata": {},
   "source": [
    "# Part III - Hierarchical Clustering "
   ]
  },
  {
   "cell_type": "markdown",
   "id": "18ba2210",
   "metadata": {},
   "source": [
    "Hierarchical clustering is a popular unsupervised machine learning algorithm that is used to identify patterns and group similar data points together in a hierarchy. The algorithm works by iteratively merging or splitting clusters based on a similarity measure until a dendrogram is formed.\n",
    "\n",
    "To perform hierarchical clustering analysis, you will need to pre-process the dataset, determine the optimal number of clusters using techniques such as dendrogram."
   ]
  },
  {
   "cell_type": "code",
   "execution_count": null,
   "id": "2b2a4ff1",
   "metadata": {},
   "outputs": [],
   "source": []
  },
  {
   "cell_type": "markdown",
   "id": "dd516495",
   "metadata": {},
   "source": [
    "# Part IV - PCA"
   ]
  },
  {
   "cell_type": "markdown",
   "id": "0a7cf638",
   "metadata": {},
   "source": [
    "In this section you are going to perform principal component analysis (PCA) to draw conclusions about the underlying structure of the wholesale customer data. Since using PCA on a dataset calculates the dimensions which best maximize variance, we will find which compound combinations of features best describe customers."
   ]
  },
  {
   "cell_type": "code",
   "execution_count": null,
   "id": "ecfd148a",
   "metadata": {},
   "outputs": [],
   "source": []
  },
  {
   "cell_type": "markdown",
   "id": "193765ae",
   "metadata": {},
   "source": [
    "# Part V - Conclusion"
   ]
  },
  {
   "cell_type": "markdown",
   "id": "1fc26f00",
   "metadata": {},
   "source": [
    "From the model you developed and the exploratory data analysis (EDA) conducted, generate four bullet points as your findings."
   ]
  },
  {
   "cell_type": "code",
   "execution_count": null,
   "id": "3cb81361",
   "metadata": {},
   "outputs": [],
   "source": []
  }
 ],
 "metadata": {
  "kernelspec": {
   "display_name": "Python 3 (ipykernel)",
   "language": "python",
   "name": "python3"
  },
  "language_info": {
   "codemirror_mode": {
    "name": "ipython",
    "version": 3
   },
   "file_extension": ".py",
   "mimetype": "text/x-python",
   "name": "python",
   "nbconvert_exporter": "python",
   "pygments_lexer": "ipython3",
   "version": "3.11.4"
  }
 },
 "nbformat": 4,
 "nbformat_minor": 5
}
